{
 "cells": [
  {
   "cell_type": "code",
   "execution_count": 8,
   "id": "bb535709",
   "metadata": {},
   "outputs": [
    {
     "name": "stdout",
     "output_type": "stream",
     "text": [
      "              genre              artist_name                   track_name  \\\n",
      "196136   Soundtrack            Thomas Newman          Served It's Purpose   \n",
      "200713        World                  Passion  Waiting Here For You - Live   \n",
      "163638    Reggaeton          Donny Caballero                Modo Champetú   \n",
      "167764         Rock                Jake Owen                     Beachin'   \n",
      "9926    Alternative             Chris Tomlin         How Great Is Our God   \n",
      "...             ...                      ...                          ...   \n",
      "154649      Country         Townes Van Zandt                 Dead Flowers   \n",
      "4610          Dance               Luis Fonsi        No Me Doy Por Vencido   \n",
      "41595         Blues  Bullet For My Valentine               The Last Fight   \n",
      "58451         Anime                 Godsmack           Rocky Mountain Way   \n",
      "175859   Soundtrack         Thomas Bergersen                Secret Melody   \n",
      "\n",
      "                      track_id  popularity  acousticness  danceability  \\\n",
      "196136  5Sc9nay1AVOP9j8peaGDIp          28      0.892000         0.243   \n",
      "200713  3oSQOGiP2Zl0NukkKJOgwx          43      0.383000         0.260   \n",
      "163638  7K2sTdmEMrmU0wmpc5qYOU          30      0.005740         0.847   \n",
      "167764  5dNGORzxFb5z3v7vSAFkTU          62      0.344000         0.527   \n",
      "9926    0jOSpB2zK2O0SNxj8ZT5lp          63      0.107000         0.318   \n",
      "...                        ...         ...           ...           ...   \n",
      "154649  6QLh3oOA1AKocLHFH6j7qA          48      0.479000         0.554   \n",
      "4610    4lerOTNr2tFWJCAmmhymhi          69      0.429000         0.368   \n",
      "41595   79rFv44RxuMb70y6sHC14l          54      0.000456         0.300   \n",
      "58451   5ukJq9U6TXjww78Xo4P7JC          50      0.000125         0.460   \n",
      "175859  4FvOXcUhFu2RVyfxq1gJgH          39      0.917000         0.570   \n",
      "\n",
      "        duration_ms  energy  instrumentalness key  liveness  loudness   mode  \\\n",
      "196136        84600   0.127          0.943000  D#    0.1120   -27.132  Minor   \n",
      "200713       366307   0.394          0.000001  D#    0.9430    -8.063  Major   \n",
      "163638       208933   0.732          0.000000   D    0.2820    -5.740  Major   \n",
      "167764       191040   0.902          0.000046  F#    0.0669    -5.352  Major   \n",
      "9926         305427   0.573          0.000000  C#    0.0854    -5.653  Major   \n",
      "...             ...     ...               ...  ..       ...       ...    ...   \n",
      "154649       287293   0.175          0.000000   C    0.1070   -16.763  Major   \n",
      "4610         239400   0.649          0.000000  D#    0.5960    -5.866  Major   \n",
      "41595        259307   0.971          0.000000   G    0.2830    -3.118  Major   \n",
      "58451        242533   0.790          0.002450   G    0.2120    -5.057  Major   \n",
      "175859       226907   0.487          0.978000   G    0.1400    -9.273  Minor   \n",
      "\n",
      "        speechiness    tempo time_signature  valence  \n",
      "196136       0.0371  122.639            3/4   0.1290  \n",
      "200713       0.0344  127.280            4/4   0.0969  \n",
      "163638       0.0523  127.986            4/4   0.7770  \n",
      "167764       0.0601  181.964            4/4   0.7090  \n",
      "9926         0.0324  156.054            4/4   0.0765  \n",
      "...             ...      ...            ...      ...  \n",
      "154649       0.0335  118.686            4/4   0.4200  \n",
      "4610         0.0790  171.976            3/4   0.4760  \n",
      "41595        0.1420  184.536            4/4   0.3360  \n",
      "58451        0.0602  139.193            3/4   0.6210  \n",
      "175859       0.0322  115.021            3/4   0.4760  \n",
      "\n",
      "[200 rows x 18 columns]\n"
     ]
    }
   ],
   "source": [
    "import pandas as pd\n",
    "import random\n",
    "\n",
    "df = pd.read_csv('SpotifyFeatures.csv')\n",
    "new_df = pd.DataFrame()\n",
    "\n",
    "for i in range(200):\n",
    "    index = random.randint(0,228158)\n",
    "    new_df = new_df.append(df.iloc[[index]])\n",
    "    \n",
    "print(new_df)\n",
    "\n",
    "new_df.to_csv('subset_random_songs.csv')"
   ]
  }
 ],
 "metadata": {
  "kernelspec": {
   "display_name": "Python 3",
   "language": "python",
   "name": "python3"
  },
  "language_info": {
   "codemirror_mode": {
    "name": "ipython",
    "version": 3
   },
   "file_extension": ".py",
   "mimetype": "text/x-python",
   "name": "python",
   "nbconvert_exporter": "python",
   "pygments_lexer": "ipython3",
   "version": "3.8.8"
  }
 },
 "nbformat": 4,
 "nbformat_minor": 5
}
