{
 "cells": [
  {
   "cell_type": "code",
   "execution_count": null,
   "id": "c2527d95",
   "metadata": {},
   "outputs": [],
   "source": [
    "#To retrieve data from more playlists, add the Spotify URI to the playlist.json file.\n",
    "#Then, change playlist_index to corresponding Spotify URI index.\n",
    "#Run all cells to output a playlist_indexnum.csv file."
   ]
  },
  {
   "cell_type": "code",
   "execution_count": null,
   "id": "2612cb51",
   "metadata": {},
   "outputs": [],
   "source": [
    "#Importing spotipy to work with Spotify API and json\n",
    "\n",
    "import spotipy\n",
    "from spotipy.oauth2 import SpotifyClientCredentials\n",
    "from spotipy_random import get_random\n",
    "import json\n",
    "import numpy as np\n",
    "import pandas as pd"
   ]
  },
  {
   "cell_type": "code",
   "execution_count": null,
   "id": "a7d97d33",
   "metadata": {},
   "outputs": [],
   "source": [
    "#Using keys from Spotify developer\n",
    "\n",
    "credentials = json.load(open('authorization.json'))\n",
    "client_id = credentials['client_id']\n",
    "client_secret = credentials['client_secret']\n",
    "\n",
    "client_credentials_manager = SpotifyClientCredentials(client_id=client_id,client_secret=client_secret)\n",
    "\n",
    "sp = spotipy.Spotify(client_credentials_manager=client_credentials_manager)"
   ]
  },
  {
   "cell_type": "code",
   "execution_count": null,
   "id": "e228f217",
   "metadata": {},
   "outputs": [],
   "source": [
    "#Accessing TikTok Top Songs playlist from Spotify\n",
    "\n",
    "## CHANGE THIS TO RETRIEVE DATA FOR ANOTHER PLAYLIST\n",
    "playlist_index = 0\n",
    "\n",
    "playlists = json.load(open('playlist.json'))\n",
    "playlist_uri = playlists[playlist_index]['uri']"
   ]
  },
  {
   "cell_type": "code",
   "execution_count": null,
   "id": "f86524e7",
   "metadata": {},
   "outputs": [],
   "source": [
    "#Getting track information\n",
    "\n",
    "uri = playlist_uri\n",
    "\n",
    "results = sp.playlist_tracks(uri)\n",
    "tracks = results['items']\n",
    "while results['next']:\n",
    "    results = sp.next(results)\n",
    "    tracks.extend(results['items'])\n",
    "#print(tracks)\n"
   ]
  },
  {
   "cell_type": "code",
   "execution_count": null,
   "id": "b2863f6e",
   "metadata": {},
   "outputs": [],
   "source": [
    "#Retrieving track information\n",
    "\n",
    "playlist_tracks_id = []\n",
    "playlist_tracks_titles = []\n",
    "playlist_tracks_artists = []\n",
    "playlist_tracks_first_artists = []\n",
    "\n",
    "for track in tracks:\n",
    "    playlist_tracks_id.append(track['track']['id'])\n",
    "    playlist_tracks_titles.append(track['track']['name'])\n",
    "    # adds a list of all artists involved in the song to the list of artists for the playlist\n",
    "    artist_list = []\n",
    "    for artist in track['track']['artists']:\n",
    "        artist_list.append(artist['name'])\n",
    "    playlist_tracks_artists.append(artist_list)    \n",
    "\n",
    "#print(playlist_tracks_titles)\n",
    "#print(playlist_tracks_artists)"
   ]
  },
  {
   "cell_type": "code",
   "execution_count": null,
   "id": "29941a3d",
   "metadata": {},
   "outputs": [],
   "source": [
    "#Retrieving audio features\n",
    "features_df = pd.DataFrame()\n",
    "for track_id in playlist_tracks_id:\n",
    "    features = sp.audio_features(track_id)\n",
    "    features_df = features_df.append(features)"
   ]
  },
  {
   "cell_type": "code",
   "execution_count": null,
   "id": "b1c58b4d",
   "metadata": {},
   "outputs": [],
   "source": [
    "#Adding title and artist information to features dataframe\n",
    "\n",
    "features_df['title'] = playlist_tracks_titles\n",
    "features_df['all_artists'] = playlist_tracks_artists\n",
    "features_df = features_df[['id', 'title', 'all_artists',\n",
    "                           'danceability', 'energy', 'key', 'loudness',\n",
    "                           'mode', 'acousticness', 'instrumentalness',\n",
    "                           'liveness', 'valence', 'tempo',\n",
    "                           'duration_ms', 'time_signature']]\n"
   ]
  },
  {
   "cell_type": "code",
   "execution_count": null,
   "id": "e32f9918",
   "metadata": {},
   "outputs": [],
   "source": [
    "#Creating csv from features dataframe\n",
    "features_df.to_csv(\"playlist_\" + str(playlist_index) + \".csv\", encoding='utf-8',index=\"false\")\n"
   ]
  },
  {
   "cell_type": "code",
   "execution_count": null,
   "id": "12625548",
   "metadata": {},
   "outputs": [],
   "source": [
    "#Retrieving random songs track info from Spotify API\n",
    "\n",
    "rand_trackid_lst = []\n",
    "rand_playlist_tracks_titles = []\n",
    "rand_playlist_tracks_artists = []\n",
    "\n",
    "for i in range(200):\n",
    "    rand_trackinfo = get_random(spotify=sp, type=\"track\")\n",
    "    rand_playlist_tracks_titles.append(rand_trackinfo['name'])\n",
    "    \n",
    "    artist_list = []\n",
    "    for artist in rand_trackinfo['artists']:\n",
    "        artist_list.append(artist['name'])\n",
    "    rand_playlist_tracks_artists.append(artist_list)\n",
    "    \n",
    "    rand_trackid_lst.append(rand_trackinfo[\"uri\"])\n",
    "    \n",
    "#print(rand_trackid_lst)\n",
    "#print(rand_playlist_tracks_titles)\n",
    "#print(rand_playlist_tracks_artists)\n",
    "\n"
   ]
  },
  {
   "cell_type": "code",
   "execution_count": null,
   "id": "6f1350ef",
   "metadata": {},
   "outputs": [],
   "source": [
    "#Retrieving audio features of random songs\n",
    "\n",
    "rand_features_df = pd.DataFrame()\n",
    "for rand_track_id in rand_trackid_lst:\n",
    "    features = sp.audio_features(rand_track_id)\n",
    "    rand_features_df = rand_features_df.append(features)\n",
    "    \n",
    "#print(rand_features_df.head())"
   ]
  },
  {
   "cell_type": "code",
   "execution_count": null,
   "id": "9104597d",
   "metadata": {},
   "outputs": [],
   "source": [
    "#Adding title and artist information to features dataframe of random songs\n",
    "\n",
    "rand_features_df['title'] = rand_playlist_tracks_titles\n",
    "rand_features_df['all_artists'] = rand_playlist_tracks_artists\n",
    "rand_features_df = rand_features_df[['id', 'title', 'all_artists',\n",
    "                           'danceability', 'energy', 'key', 'loudness',\n",
    "                           'mode', 'acousticness', 'instrumentalness',\n",
    "                           'liveness', 'valence', 'tempo',\n",
    "                           'duration_ms', 'time_signature']]\n",
    "\n",
    "#print(rand_features_df.head())\n",
    "#print(len(rand_features_df))"
   ]
  },
  {
   "cell_type": "code",
   "execution_count": null,
   "id": "dedab4de",
   "metadata": {},
   "outputs": [],
   "source": [
    "#Creating csv from features dataframe, random songs\n",
    "rand_features_df.to_csv(\"random_songs_v1\" + \".csv\", encoding='utf-8',index=\"false\")"
   ]
  }
 ],
 "metadata": {
  "kernelspec": {
   "display_name": "Python 3",
   "language": "python",
   "name": "python3"
  },
  "language_info": {
   "codemirror_mode": {
    "name": "ipython",
    "version": 3
   },
   "file_extension": ".py",
   "mimetype": "text/x-python",
   "name": "python",
   "nbconvert_exporter": "python",
   "pygments_lexer": "ipython3",
   "version": "3.8.8"
  }
 },
 "nbformat": 4,
 "nbformat_minor": 5
}
